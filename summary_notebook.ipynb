{
 "cells": [
  {
   "cell_type": "code",
   "execution_count": 1,
   "metadata": {},
   "outputs": [
    {
     "name": "stdout",
     "output_type": "stream",
     "text": [
      "Processing /home/pushkara/.cache/pip/wheels/08/71/4d/14c4f224e1947d071d50fb346434bb1775edb040a780fc57bd/bert_extractive_summarizer-0.5.0-py3-none-any.whl\n",
      "Collecting spacy\n",
      "  Using cached spacy-2.3.2-cp38-cp38-manylinux1_x86_64.whl (9.8 MB)\n",
      "Requirement already satisfied: transformers in /home/pushkara/anaconda3/lib/python3.8/site-packages (from bert-extractive-summarizer) (2.2.0)\n",
      "Requirement already satisfied: scikit-learn in /home/pushkara/anaconda3/lib/python3.8/site-packages (from bert-extractive-summarizer) (0.23.2)\n",
      "Collecting thinc==7.4.1\n",
      "  Using cached thinc-7.4.1-cp38-cp38-manylinux1_x86_64.whl (2.1 MB)\n",
      "Requirement already satisfied: srsly<1.1.0,>=1.0.2 in /home/pushkara/anaconda3/lib/python3.8/site-packages (from spacy->bert-extractive-summarizer) (1.0.2)\n",
      "Collecting cymem<2.1.0,>=2.0.2\n",
      "  Using cached cymem-2.0.3-cp38-cp38-manylinux1_x86_64.whl (33 kB)\n",
      "Requirement already satisfied: tqdm<5.0.0,>=4.38.0 in /home/pushkara/anaconda3/lib/python3.8/site-packages (from spacy->bert-extractive-summarizer) (4.49.0)\n",
      "Requirement already satisfied: catalogue<1.1.0,>=0.0.7 in /home/pushkara/anaconda3/lib/python3.8/site-packages (from spacy->bert-extractive-summarizer) (1.0.0)\n",
      "Collecting preshed<3.1.0,>=3.0.2\n",
      "  Using cached preshed-3.0.2-cp38-cp38-manylinux1_x86_64.whl (118 kB)\n",
      "Requirement already satisfied: wasabi<1.1.0,>=0.4.0 in /home/pushkara/anaconda3/lib/python3.8/site-packages (from spacy->bert-extractive-summarizer) (0.8.0)\n",
      "Requirement already satisfied: murmurhash<1.1.0,>=0.28.0 in /home/pushkara/anaconda3/lib/python3.8/site-packages (from spacy->bert-extractive-summarizer) (0.28.0)\n",
      "Requirement already satisfied: blis<0.5.0,>=0.4.0 in /home/pushkara/anaconda3/lib/python3.8/site-packages (from spacy->bert-extractive-summarizer) (0.4.1)\n",
      "Requirement already satisfied: requests<3.0.0,>=2.13.0 in /home/pushkara/anaconda3/lib/python3.8/site-packages (from spacy->bert-extractive-summarizer) (2.24.0)\n",
      "Requirement already satisfied: plac<1.2.0,>=0.9.6 in /home/pushkara/anaconda3/lib/python3.8/site-packages (from spacy->bert-extractive-summarizer) (0.9.6)\n",
      "Requirement already satisfied: numpy>=1.15.0 in /home/pushkara/anaconda3/lib/python3.8/site-packages (from spacy->bert-extractive-summarizer) (1.19.2)\n",
      "Requirement already satisfied: setuptools in /home/pushkara/anaconda3/lib/python3.8/site-packages (from spacy->bert-extractive-summarizer) (50.3.0)\n",
      "Requirement already satisfied: regex in /home/pushkara/anaconda3/lib/python3.8/site-packages (from transformers->bert-extractive-summarizer) (2020.6.8)\n",
      "Requirement already satisfied: sentencepiece in /home/pushkara/anaconda3/lib/python3.8/site-packages (from transformers->bert-extractive-summarizer) (0.1.91)\n",
      "Requirement already satisfied: boto3 in /home/pushkara/anaconda3/lib/python3.8/site-packages (from transformers->bert-extractive-summarizer) (1.14.60)\n",
      "Requirement already satisfied: sacremoses in /home/pushkara/anaconda3/lib/python3.8/site-packages (from transformers->bert-extractive-summarizer) (0.0.43)\n",
      "Requirement already satisfied: scipy>=0.19.1 in /home/pushkara/anaconda3/lib/python3.8/site-packages (from scikit-learn->bert-extractive-summarizer) (1.5.2)\n",
      "Requirement already satisfied: threadpoolctl>=2.0.0 in /home/pushkara/anaconda3/lib/python3.8/site-packages (from scikit-learn->bert-extractive-summarizer) (2.1.0)\n",
      "Requirement already satisfied: joblib>=0.11 in /home/pushkara/anaconda3/lib/python3.8/site-packages (from scikit-learn->bert-extractive-summarizer) (0.16.0)\n",
      "Requirement already satisfied: urllib3!=1.25.0,!=1.25.1,<1.26,>=1.21.1 in /home/pushkara/anaconda3/lib/python3.8/site-packages (from requests<3.0.0,>=2.13.0->spacy->bert-extractive-summarizer) (1.25.10)\n",
      "Requirement already satisfied: chardet<4,>=3.0.2 in /home/pushkara/anaconda3/lib/python3.8/site-packages (from requests<3.0.0,>=2.13.0->spacy->bert-extractive-summarizer) (3.0.4)\n",
      "Requirement already satisfied: certifi>=2017.4.17 in /home/pushkara/anaconda3/lib/python3.8/site-packages (from requests<3.0.0,>=2.13.0->spacy->bert-extractive-summarizer) (2020.6.20)\n",
      "Requirement already satisfied: idna<3,>=2.5 in /home/pushkara/anaconda3/lib/python3.8/site-packages (from requests<3.0.0,>=2.13.0->spacy->bert-extractive-summarizer) (2.10)\n",
      "Requirement already satisfied: s3transfer<0.4.0,>=0.3.0 in /home/pushkara/anaconda3/lib/python3.8/site-packages (from boto3->transformers->bert-extractive-summarizer) (0.3.3)\n",
      "Requirement already satisfied: jmespath<1.0.0,>=0.7.1 in /home/pushkara/anaconda3/lib/python3.8/site-packages (from boto3->transformers->bert-extractive-summarizer) (0.10.0)\n",
      "Requirement already satisfied: botocore<1.18.0,>=1.17.60 in /home/pushkara/anaconda3/lib/python3.8/site-packages (from boto3->transformers->bert-extractive-summarizer) (1.17.60)\n",
      "Requirement already satisfied: six in /home/pushkara/anaconda3/lib/python3.8/site-packages (from sacremoses->transformers->bert-extractive-summarizer) (1.15.0)\n",
      "Requirement already satisfied: click in /home/pushkara/anaconda3/lib/python3.8/site-packages (from sacremoses->transformers->bert-extractive-summarizer) (7.1.2)\n",
      "Requirement already satisfied: docutils<0.16,>=0.10 in /home/pushkara/anaconda3/lib/python3.8/site-packages (from botocore<1.18.0,>=1.17.60->boto3->transformers->bert-extractive-summarizer) (0.15.2)\n",
      "Requirement already satisfied: python-dateutil<3.0.0,>=2.1 in /home/pushkara/anaconda3/lib/python3.8/site-packages (from botocore<1.18.0,>=1.17.60->boto3->transformers->bert-extractive-summarizer) (2.8.1)\n",
      "Installing collected packages: cymem, preshed, thinc, spacy, bert-extractive-summarizer\n",
      "  Attempting uninstall: cymem\n",
      "    Found existing installation: cymem 1.31.2\n",
      "    Uninstalling cymem-1.31.2:\n",
      "      Successfully uninstalled cymem-1.31.2\n",
      "  Attempting uninstall: preshed\n",
      "    Found existing installation: preshed 1.0.1\n",
      "    Uninstalling preshed-1.0.1:\n",
      "      Successfully uninstalled preshed-1.0.1\n",
      "  Attempting uninstall: thinc\n",
      "    Found existing installation: thinc 6.10.3\n",
      "    Uninstalling thinc-6.10.3:\n",
      "      Successfully uninstalled thinc-6.10.3\n",
      "Successfully installed bert-extractive-summarizer-0.5.0 cymem-2.0.3 preshed-3.0.2 spacy-2.3.2 thinc-7.4.1\n"
     ]
    }
   ],
   "source": [
    "!pip install bert-extractive-summarizer"
   ]
  },
  {
   "cell_type": "code",
   "execution_count": 1,
   "metadata": {},
   "outputs": [],
   "source": [
    "from summarizer import Summarizer,TransformerSummarizer"
   ]
  },
  {
   "cell_type": "code",
   "execution_count": 7,
   "metadata": {},
   "outputs": [],
   "source": [
    "with open('article2.txt','r') as f:\n",
    "     text = f.read()"
   ]
  },
  {
   "cell_type": "code",
   "execution_count": 12,
   "metadata": {},
   "outputs": [],
   "source": [
    "import datetime"
   ]
  },
  {
   "cell_type": "code",
   "execution_count": 13,
   "metadata": {},
   "outputs": [
    {
     "name": "stdout",
     "output_type": "stream",
     "text": [
      "The Nile River fed Egyptian civilization for hundreds of years. It begins near the equator in Africa and flows north to the Mediterranean Sea. This soil was fertile, which means it was good for growing crops. They called this region the black land because of the fertile soil that the floods deposited. The red land was the barren desert beyond the fertile region. After the waters drained away, farmers could plant seeds in the fertile soil. Then they used a tool called a shaduf to spread the water across the fields. These innovative, or new, techniques gave them more farmland. Egyptian Crops Ancient Egyptians grew a large variety of foods. They were the first to grind wheat into flour and to mix the flour with yeast and water to make dough rise into bread. Egyptian Houses Egyptians built houses using bricks made of mud from the Nile mixed with chopped straw. Egyptians often painted walls white to reflect the blazing heat. Poorer Egyptians simply went to the roof to cool off after sunset. One ancient painting even shows a man ready to hit a catfish with a wooden hammer. A boomerang is a curved stick that returns to the person who threw it.) Going south, they raised a sail and let the winds that blew in that direction push them. The Nile provided so well for Egyptians that sometimes they had surpluses, or more goods than they needed. Ancient Egypt had no money, so people exchanged goods that they grew or made. This prosperity made life easier and provided greater opportunities for many Egyptians. For example, some ancient Egyptians learned to be scribes, people whose job was to write and keep records. Some skilled artisans erected stone or brick houses and temples. These traders took Egyptian products such as scrolls, linen, gold, and jewelry. Egyptians created a government that divided the empire into 42 provinces. Many officials worked to keep the provinces running smoothly. Priests followed formal rituals and took care of the temples. Before entering a temple, a priest bathed and put on special linen garments and white sandals. Together, the priests and the ruler held ceremonies to please the gods. In Egypt, people became slaves if they owed a debt, committed a crime, or were captured in war. Unlike other ancient African cultures, in Egyptian society men and women had fairly equal rights. For example, they could both own and manage their own property. Boys and girls also played rough physical games with balls made of leather or reeds. Boys and some girls from wealthy families went to schools run by scribes or priests. Almost all Egyptians married when they were in their early teens. Doctors believed that the heart controlled thought and the brain circulated blood, which is the opposite of what is known now. Early Egyptians created a hieroglyphic system with about 700 characters. Egyptians cut the stems into strips, pressed them, and dried them into sheets that could be rolled into scrolls. Legend says a king named Narmer united Upper and Lower Egypt. When a king died, one of his children usually took his place as ruler. The order in which members of a royal family inherit a throne is called the succession. Historians divide ancient Egyptian dynasties into the Old Kingdom, the Middle Kingdom, and the New Kingdom. Egyptians believed that if the pharaoh and his subjects honored the gods, their lives would be happy. The first rulers of Egypt were often buried in an underground tomb topped by mud brick. They replaced the mud brick with a small pyramid of brick or stone. A pyramid is a structure shaped like a triangle, with four sides that meet at a point. It is called a step pyramid because its sides rise in a series of giant steps. He ordered the construction of the largest pyramid ever built. One reason is that the pyramids drew attention to the tombs inside them. Grave robbers broke into the tombs to steal the treasure buried with the pharaohs. Egyptians believed that if a tomb was robbed, the person buried there could not have a happy afterlife. This was to confuse grave robbers about which passage to take. Sometimes relatives, such as the queen, were buried in the extra rooms. Tombs were supposed to be the palaces of pharaohs in the afterlife. Mourners filled the tomb with objects ranging from food to furniture that the mummified pharaoh would need. A sculpture of a dead pharaoh had “perfect” features, no matter how he really looked. Artists also followed strict rules about how to portray humans. Paintings showed a person’s head, arms, and legs from the side. Such activities included growing and preparing food, caring for animals, and building boats. Only a secret tomb built for a New Kingdom pharaoh was ever found with much of its treasure untouched. By about 2130 B.C., Egyptian kings began to lose their power to local rulers of the provinces.\n",
      "0:00:56.234789\n"
     ]
    }
   ],
   "source": [
    "s = datetime.datetime.now()\n",
    "model = Summarizer()\n",
    "result = model(text, min_length=60,max_length=500,ratio=0.4)\n",
    "summary = \"\".join(result)\n",
    "e = datetime.datetime.now()\n",
    "print(summary)\n",
    "print(e-s)"
   ]
  },
  {
   "cell_type": "code",
   "execution_count": null,
   "metadata": {},
   "outputs": [],
   "source": [
    "s = datetime.datetime.now()\n",
    "model = TransformerSummarizer(transformer_type=\"XLNet\",transformer_model_key=\"xlnet-base-cased\")\n",
    "full = ''.join(model(text, min_length=60,max_length=500,ratio=0.4))\n",
    "e = datetime.datetime.now()\n",
    "print(full)\n",
    "print(e-s)"
   ]
  },
  {
   "cell_type": "code",
   "execution_count": null,
   "metadata": {},
   "outputs": [],
   "source": []
  }
 ],
 "metadata": {
  "kernelspec": {
   "display_name": "Python 3",
   "language": "python",
   "name": "python3"
  },
  "language_info": {
   "codemirror_mode": {
    "name": "ipython",
    "version": 3
   },
   "file_extension": ".py",
   "mimetype": "text/x-python",
   "name": "python",
   "nbconvert_exporter": "python",
   "pygments_lexer": "ipython3",
   "version": "3.8.3"
  }
 },
 "nbformat": 4,
 "nbformat_minor": 4
}
